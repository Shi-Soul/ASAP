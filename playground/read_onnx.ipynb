{
 "cells": [
  {
   "cell_type": "code",
   "execution_count": 4,
   "metadata": {},
   "outputs": [],
   "source": [
    "onnx_path=\"/home/bai/ASAP/logs/TestIsaacGymInstallation/20250303_163931-G123dof_loco-locomotion-g1_29dof_anneal_23dof/exported/model_78300.onnx\"\n",
    "\n"
   ]
  },
  {
   "cell_type": "code",
   "execution_count": 5,
   "metadata": {},
   "outputs": [],
   "source": [
    "import onnx\n",
    "onnx_model = onnx.load(onnx_path)\n",
    "onnx.checker.check_model(onnx_model)\n"
   ]
  },
  {
   "cell_type": "code",
   "execution_count": 7,
   "metadata": {},
   "outputs": [
    {
     "name": "stdout",
     "output_type": "stream",
     "text": [
      "actor_obs\n",
      "action\n",
      "推理结果: [array([[-9.416611  ,  0.31545198,  2.923871  ,  0.90768987,  1.7897813 ,\n",
      "        -2.6487195 , -3.909695  , -0.8129289 ,  1.807198  ,  5.8436904 ,\n",
      "         1.1285757 ,  3.4792788 ,  2.169881  ,  1.9389107 ,  0.55351245,\n",
      "         2.3009956 , -0.6020072 , -5.2596083 ,  1.3413401 , -3.368522  ,\n",
      "        -1.2472608 ,  0.66306883, -0.20899722]], dtype=float32)]\n"
     ]
    },
    {
     "name": "stderr",
     "output_type": "stream",
     "text": [
      "\u001b[1;31m2025-03-04 16:12:26.084310051 [E:onnxruntime:Default, provider_bridge_ort.cc:1992 TryGetProviderInfo_CUDA] /onnxruntime_src/onnxruntime/core/session/provider_bridge_ort.cc:1637 onnxruntime::Provider& onnxruntime::ProviderLibrary::Get() [ONNXRuntimeError] : 1 : FAIL : Failed to load library libonnxruntime_providers_cuda.so with error: libcublasLt.so.12: cannot open shared object file: No such file or directory\n",
      "\u001b[m\n",
      "\u001b[0;93m2025-03-04 16:12:26.084327835 [W:onnxruntime:Default, onnxruntime_pybind_state.cc:965 CreateExecutionProviderInstance] Failed to create CUDAExecutionProvider. Require cuDNN 9.* and CUDA 12.*. Please install all dependencies as mentioned in the GPU requirements page (https://onnxruntime.ai/docs/execution-providers/CUDA-ExecutionProvider.html#requirements), make sure they're in the PATH, and that your GPU is supported.\u001b[m\n"
     ]
    }
   ],
   "source": [
    "import onnxruntime as ort\n",
    "import numpy as np\n",
    "\n",
    "# 加载 ONNX 模型\n",
    "model_path = onnx_path\n",
    "# session = ort.InferenceSession(model_path, providers=['CPUExecutionProvider'])  # 使用CPU\n",
    "# 如果你想使用GPU，可以改为：\n",
    "session = ort.InferenceSession(model_path, providers=['CUDAExecutionProvider'])\n",
    "\n",
    "# 准备输入数据\n",
    "# 假设你的输入是一个 numpy 数组，形状与导出时的 example_obs_dict[\"actor_obs\"] 一致\n",
    "example_input = np.random.randn(1, 81).astype(np.float32)\n",
    "\n",
    "# 进行推理\n",
    "input_name = session.get_inputs()[0].name\n",
    "output_name = session.get_outputs()[0].name\n",
    "result = session.run([output_name], {input_name: example_input})\n",
    "\n",
    "# 输出结果\n",
    "print(session.get_inputs()[0].name)\n",
    "print(session.get_outputs()[0].name)\n",
    "print(\"推理结果:\", result)"
   ]
  },
  {
   "cell_type": "markdown",
   "metadata": {},
   "source": []
  }
 ],
 "metadata": {
  "kernelspec": {
   "display_name": "asap",
   "language": "python",
   "name": "python3"
  },
  "language_info": {
   "codemirror_mode": {
    "name": "ipython",
    "version": 3
   },
   "file_extension": ".py",
   "mimetype": "text/x-python",
   "name": "python",
   "nbconvert_exporter": "python",
   "pygments_lexer": "ipython3",
   "version": "3.8.20"
  }
 },
 "nbformat": 4,
 "nbformat_minor": 2
}
